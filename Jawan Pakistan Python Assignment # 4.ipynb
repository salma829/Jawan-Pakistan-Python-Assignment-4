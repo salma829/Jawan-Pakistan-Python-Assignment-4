{
 "cells": [
  {
   "cell_type": "markdown",
   "id": "b726be1f",
   "metadata": {},
   "source": [
    "# Make a calculator using Python with addition , subtraction , multiplication , division and power."
   ]
  },
  {
   "cell_type": "code",
   "execution_count": 27,
   "id": "59a5a523",
   "metadata": {},
   "outputs": [
    {
     "name": "stdout",
     "output_type": "stream",
     "text": [
      "Enter your first number: 6\n",
      "Enter your second number: 8\n",
      "6 + 8 =  14\n",
      "6 - 8 =  -2\n",
      "6 * 8 =  48\n",
      "6 / 8 =  0.75\n",
      "6 ** 8 =  1679616\n"
     ]
    }
   ],
   "source": [
    "number_1 = int(input('Enter your first number: '))\n",
    "number_2 = int(input('Enter your second number: '))\n",
    "\n",
    "#Addition\n",
    "print('{} + {} = '.format(number_1, number_2) , number_1 + number_2)\n",
    "\n",
    "#Subtraction\n",
    "print('{} - {} = '.format(number_1, number_2) , number_1 - number_2)\n",
    "\n",
    "#Multiplication\n",
    "print('{} * {} = '.format(number_1, number_2) , (number_1 * number_2))\n",
    "\n",
    "#Division\n",
    "print('{} / {} = '.format(number_1, number_2) , (number_1 / number_2))\n",
    "\n",
    "#Power\n",
    "print('{} ** {} = '.format(number_1, number_2) , (number_1 ** number_2))"
   ]
  },
  {
   "cell_type": "markdown",
   "id": "113b5a6e",
   "metadata": {},
   "source": [
    "# 2. Write a program to check if there is any numeric value in list using for loop."
   ]
  },
  {
   "cell_type": "code",
   "execution_count": 3,
   "id": "b44f013c",
   "metadata": {},
   "outputs": [
    {
     "name": "stdout",
     "output_type": "stream",
     "text": [
      "4\n"
     ]
    }
   ],
   "source": [
    "list = [\"abc\", \"def\", 4, \"ghi\"] \n",
    "for x in list: \n",
    "    if type(x) == int: \n",
    "        print(x)"
   ]
  },
  {
   "cell_type": "markdown",
   "id": "5cbf845e",
   "metadata": {},
   "source": [
    "# 3. Write a Python script to add a key to a dictionary."
   ]
  },
  {
   "cell_type": "code",
   "execution_count": 23,
   "id": "49e86ec7",
   "metadata": {},
   "outputs": [
    {
     "name": "stdout",
     "output_type": "stream",
     "text": [
      "{1: 'apple', 2: 'orange', 3: 'mango'}\n",
      "{1: 'apple', 2: 'orange', 3: 'mango', 4: 'banana'}\n"
     ]
    }
   ],
   "source": [
    "my_dict = {1:\"apple\",2:\"orange\",3:\"mango\"}\n",
    "print(my_dict)\n",
    "\n",
    "my_dict.update({4:\"banana\"})\n",
    "print(my_dict)"
   ]
  },
  {
   "cell_type": "markdown",
   "id": "a12678ad",
   "metadata": {},
   "source": [
    "# 4. Write a Python program to sum all the numeric items in a dictionary."
   ]
  },
  {
   "cell_type": "code",
   "execution_count": 20,
   "id": "3f65d67f",
   "metadata": {},
   "outputs": [
    {
     "name": "stdout",
     "output_type": "stream",
     "text": [
      "12\n"
     ]
    }
   ],
   "source": [
    "#4. Write a Python program to sum all the numeric items in a dictionary.\n",
    "my_dict = {\"a\":2,\"b\":4,\"c\":6}\n",
    "print(sum(my_dict.values()))"
   ]
  },
  {
   "cell_type": "markdown",
   "id": "16e16aa6",
   "metadata": {},
   "source": [
    "# 5. Write a program to identify duplicate values from list."
   ]
  },
  {
   "cell_type": "code",
   "execution_count": 21,
   "id": "7fe45055",
   "metadata": {},
   "outputs": [
    {
     "name": "stdout",
     "output_type": "stream",
     "text": [
      "2 3 4 5 "
     ]
    }
   ],
   "source": [
    "List = [1,2,3,4,5,2,3,4,7,9,5]\n",
    "List1 = []\n",
    "for i in List:\n",
    "    if i not in List1:\n",
    "        List1.append(i)\n",
    "    else:\n",
    "        print(i,end=' ')"
   ]
  },
  {
   "cell_type": "markdown",
   "id": "139beb49",
   "metadata": {},
   "source": [
    "# 6. Write a Python script to check if a given key already exists in a dictionary"
   ]
  },
  {
   "cell_type": "code",
   "execution_count": 22,
   "id": "e954823f",
   "metadata": {},
   "outputs": [
    {
     "name": "stdout",
     "output_type": "stream",
     "text": [
      "Key exists\n"
     ]
    }
   ],
   "source": [
    "mydict = {\"one\": \"1\",\"two\": \"2\",\"three\": \"3\",\"four\": \"4\",}\n",
    "\n",
    "key = \"one\"\n",
    "\n",
    "if key in mydict:\n",
    "    print(\"Key exists\") \n",
    "else:\n",
    "    print(\"Key does not exist\")\n"
   ]
  }
 ],
 "metadata": {
  "kernelspec": {
   "display_name": "Python 3",
   "language": "python",
   "name": "python3"
  },
  "language_info": {
   "codemirror_mode": {
    "name": "ipython",
    "version": 3
   },
   "file_extension": ".py",
   "mimetype": "text/x-python",
   "name": "python",
   "nbconvert_exporter": "python",
   "pygments_lexer": "ipython3",
   "version": "3.8.8"
  }
 },
 "nbformat": 4,
 "nbformat_minor": 5
}
